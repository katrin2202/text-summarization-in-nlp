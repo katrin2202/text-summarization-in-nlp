{
  "nbformat": 4,
  "nbformat_minor": 0,
  "metadata": {
    "colab": {
      "provenance": [],
      "authorship_tag": "ABX9TyM5zTzApChOnbAJkO/lB/F1",
      "include_colab_link": true
    },
    "kernelspec": {
      "name": "python3",
      "display_name": "Python 3"
    },
    "language_info": {
      "name": "python"
    },
    "accelerator": "TPU",
    "gpuClass": "standard"
  },
  "cells": [
    {
      "cell_type": "markdown",
      "metadata": {
        "id": "view-in-github",
        "colab_type": "text"
      },
      "source": [
        "<a href=\"https://colab.research.google.com/github/katrin2202/text-summarization-in-nlp/blob/main/LSTM.ipynb\" target=\"_parent\"><img src=\"https://colab.research.google.com/assets/colab-badge.svg\" alt=\"Open In Colab\"/></a>"
      ]
    },
    {
      "cell_type": "markdown",
      "source": [
        "# Создание нейронки LSTM"
      ],
      "metadata": {
        "id": "CSJ67wuzkS2H"
      }
    },
    {
      "cell_type": "code",
      "source": [
        "#@title Скачиваем нужные библиотеки\n",
        "%%capture\n",
        "!pip install nltk\n",
        "!pip install datasets\n",
        "!pip install keras\n",
        "!pip install keras_preprocessing"
      ],
      "metadata": {
        "id": "xQ8c17g3ms0A"
      },
      "execution_count": 1,
      "outputs": []
    },
    {
      "cell_type": "code",
      "execution_count": 2,
      "metadata": {
        "id": "UhsyeJG5kPSV"
      },
      "outputs": [],
      "source": [
        "#@title Подключение библиотек\n",
        "import numpy as np\n",
        "import pandas as pd  \n",
        "import re\n",
        "import datasets\n",
        "from datasets import Dataset, DatasetDict, load_dataset, load_from_disk\n",
        "from bs4 import BeautifulSoup\n",
        "from keras.preprocessing.text import Tokenizer \n",
        "from keras_preprocessing.sequence import pad_sequences\n",
        "from tensorflow.keras.layers import Input, LSTM, Embedding, Dense, Concatenate, TimeDistributed\n",
        "from tensorflow.keras.models import Model\n",
        "from tensorflow.keras.callbacks import EarlyStopping, ModelCheckpoint\n",
        "# import warnings\n",
        "# from attention import AttentionLayer\n",
        "# pd.set_option(\"display.max_colwidth\", 200)\n",
        "# warnings.filterwarnings(\"ignore\")"
      ]
    },
    {
      "cell_type": "code",
      "source": [
        "#@title Загрузка датасета\n",
        "#data_test=pd.read_csv(\"my-dataset-train1000.csv\")\n",
        "dataset=pd.read_csv(\"my-dataset-test.csv\")\n",
        "print(dataset.info())\n",
        "dataset[:1000].to_csv('my-dataset-test1000.csv', index=False)"
      ],
      "metadata": {
        "colab": {
          "base_uri": "https://localhost:8080/"
        },
        "id": "LChAYLF_vy0d",
        "outputId": "512e38c5-7000-41da-c4af-bc0ca1382f63"
      },
      "execution_count": 29,
      "outputs": [
        {
          "output_type": "stream",
          "name": "stdout",
          "text": [
            "<class 'pandas.core.frame.DataFrame'>\n",
            "RangeIndex: 17512 entries, 0 to 17511\n",
            "Data columns (total 2 columns):\n",
            " #   Column  Non-Null Count  Dtype \n",
            "---  ------  --------------  ----- \n",
            " 0   summ    17512 non-null  object\n",
            " 1   text    17512 non-null  object\n",
            "dtypes: object(2)\n",
            "memory usage: 273.8+ KB\n",
            "None\n"
          ]
        }
      ]
    },
    {
      "cell_type": "code",
      "source": [
        "data_test=pd.read_csv(\"my-dataset-test1000.csv\")\n",
        "print(data_test.info())"
      ],
      "metadata": {
        "id": "n4ALlvDfa6OP",
        "outputId": "8386cfaa-e829-43dd-ff31-9be13b3a0ca5",
        "colab": {
          "base_uri": "https://localhost:8080/"
        }
      },
      "execution_count": 33,
      "outputs": [
        {
          "output_type": "stream",
          "name": "stdout",
          "text": [
            "<class 'pandas.core.frame.DataFrame'>\n",
            "RangeIndex: 1000 entries, 0 to 999\n",
            "Data columns (total 2 columns):\n",
            " #   Column  Non-Null Count  Dtype \n",
            "---  ------  --------------  ----- \n",
            " 0   summ    1000 non-null   object\n",
            " 1   text    1000 non-null   object\n",
            "dtypes: object(2)\n",
            "memory usage: 15.8+ KB\n",
            "None\n"
          ]
        }
      ]
    },
    {
      "cell_type": "code",
      "source": [
        "dataset = load_dataset('csv', data_files={'train': 'my-dataset-train.csv', 'val': 'my-dataset-val.csv', 'test': 'my-dataset-test.csv'})\n",
        "dataset"
      ],
      "metadata": {
        "id": "4O-WpEUU9TjP"
      },
      "execution_count": null,
      "outputs": []
    },
    {
      "cell_type": "code",
      "source": [
        "#@title Загрузка стоп слов\n",
        "import nltk\n",
        "nltk.download('stopwords')\n",
        "from nltk.corpus import stopwords\n",
        "stop_words = set(stopwords.words(\"russian\"))"
      ],
      "metadata": {
        "colab": {
          "base_uri": "https://localhost:8080/"
        },
        "id": "WoI656lyxXHW",
        "outputId": "72545b7c-c410-4acb-e257-e57a5b284b29"
      },
      "execution_count": 31,
      "outputs": [
        {
          "output_type": "stream",
          "name": "stderr",
          "text": [
            "[nltk_data] Downloading package stopwords to /root/nltk_data...\n",
            "[nltk_data]   Package stopwords is already up-to-date!\n"
          ]
        }
      ]
    },
    {
      "cell_type": "code",
      "source": [
        "#@title Функция очистки текстов и результатов\n",
        "def text_cleaner(text,num):\n",
        "    newString = text.lower()\n",
        "    newString = BeautifulSoup(newString, \"lxml\").text\n",
        "    newString = re.sub(r'\\([^)]*\\)', '', newString)\n",
        "    newString = re.sub('\"','', newString)\n",
        "    # newString = ' '.join([contraction_mapping[t] if t in contraction_mapping else t for t in newString.split(\" \")])    \n",
        "    newString = re.sub(r\"'s\\b\",\"\",newString)\n",
        "    newString = re.sub(\"[^a-zA-Zа-яА-Я]\", \" \", newString) \n",
        "    newString = re.sub('[m]{2,}', 'mm', newString)\n",
        "    if(num==0):\n",
        "        tokens = [w for w in newString.split() if not w in stop_words]\n",
        "    else:\n",
        "        tokens=newString.split()\n",
        "    long_words=[]\n",
        "    for i in tokens:\n",
        "        if len(i)>1:                                                 #removing short word\n",
        "            long_words.append(i)   \n",
        "    return (\" \".join(long_words)).strip()\n"
      ],
      "metadata": {
        "id": "ec3JKBvD5Wzl"
      },
      "execution_count": 32,
      "outputs": []
    },
    {
      "cell_type": "code",
      "source": [
        "#@title Очистка данных text\n",
        "cleaned_text = []\n",
        "for t in data_test['text']:\n",
        "    cleaned_text.append(text_cleaner(t,0))\n",
        "cleaned_text[:5]  "
      ],
      "metadata": {
        "id": "R5WGSUAG8yCr"
      },
      "execution_count": null,
      "outputs": []
    },
    {
      "cell_type": "code",
      "source": [
        "#@title Очистка данных summ\n",
        "cleaned_summary = []\n",
        "for t in data_test['summ']:\n",
        "    cleaned_summary.append(text_cleaner(t,1))\n",
        "cleaned_summary[:5]"
      ],
      "metadata": {
        "id": "ferdPkpY8lRp"
      },
      "execution_count": null,
      "outputs": []
    },
    {
      "cell_type": "code",
      "source": [
        "#@title Дабавляем очищенные данные в датасет\n",
        "data_test['cleaned_text']=cleaned_text\n",
        "data_test['cleaned_summary']=cleaned_summary"
      ],
      "metadata": {
        "cellView": "form",
        "id": "S-mfb9S1arnr"
      },
      "execution_count": 36,
      "outputs": []
    },
    {
      "cell_type": "code",
      "source": [
        "#@title Визуализация данных\n",
        "import matplotlib.pyplot as plt\n",
        "\n",
        "text_word_count = []\n",
        "summary_word_count = []\n",
        "\n",
        "# populate the lists with sentence lengths\n",
        "for i in data_test['cleaned_text']:\n",
        "      text_word_count.append(len(i.split()))\n",
        "\n",
        "for i in data_test['cleaned_summary']:\n",
        "      summary_word_count.append(len(i.split()))\n",
        "\n",
        "length_df = pd.DataFrame({'text':text_word_count, 'summary':summary_word_count})\n",
        "\n",
        "length_df.hist(bins = 30)\n",
        "plt.show()"
      ],
      "metadata": {
        "colab": {
          "base_uri": "https://localhost:8080/",
          "height": 452
        },
        "id": "8AUwD8rVa1bv",
        "outputId": "4ebdc064-818a-4595-82bf-5a329f4df782"
      },
      "execution_count": 37,
      "outputs": [
        {
          "output_type": "display_data",
          "data": {
            "text/plain": [
              "<Figure size 640x480 with 2 Axes>"
            ],
            "image/png": "[encoded data removed]"
          },
          "metadata": {}
        }
      ]
    },
    {
      "cell_type": "code",
      "source": [
        "#@title Процент обобщенного текста в котором меньше 25 слов\n",
        "cnt=0\n",
        "for i in data_test['cleaned_summary']:\n",
        "    if(len(i.split())<=50):\n",
        "        cnt=cnt+1\n",
        "print(round(cnt/len(data_test['cleaned_summary'])*10000) / 100)"
      ],
      "metadata": {
        "colab": {
          "base_uri": "https://localhost:8080/"
        },
        "id": "PNKA97gsbQ5d",
        "outputId": "b8ae7168-51b2-4234-f476-bbe9744210a9"
      },
      "execution_count": 38,
      "outputs": [
        {
          "output_type": "stream",
          "name": "stdout",
          "text": [
            "90.2\n"
          ]
        }
      ]
    },
    {
      "cell_type": "code",
      "source": [
        "#@title Процент исходного текста меньше 100 слов\n",
        "cnt=0\n",
        "for i in data_test['cleaned_text']:\n",
        "    if(len(i.split())<=500):\n",
        "        cnt=cnt+1\n",
        "print(round(cnt/len(data_test['cleaned_text'])*10000) / 100)\n"
      ],
      "metadata": {
        "colab": {
          "base_uri": "https://localhost:8080/"
        },
        "id": "lfsnI8PHbsEN",
        "outputId": "9512474f-071a-46ee-c5f4-bff3d927ddbb"
      },
      "execution_count": 39,
      "outputs": [
        {
          "output_type": "stream",
          "name": "stdout",
          "text": [
            "88.4\n"
          ]
        }
      ]
    },
    {
      "cell_type": "code",
      "source": [
        "#@title Максимальная длина текста\n",
        "max_text_len=500\n",
        "max_summary_len=50"
      ],
      "metadata": {
        "id": "Yuuj-z-Rb9-4"
      },
      "execution_count": 41,
      "outputs": []
    },
    {
      "cell_type": "code",
      "source": [
        "#@title Избавимся от выборосов\n",
        "cleaned_text =np.array(data_test['cleaned_text'])\n",
        "cleaned_summary=np.array(data_test['cleaned_summary'])\n",
        "\n",
        "short_text=[]\n",
        "short_summary=[]\n",
        "\n",
        "for i in range(len(cleaned_text)):\n",
        "    if(len(cleaned_summary[i].split())<=max_summary_len and len(cleaned_text[i].split())<=max_text_len):\n",
        "        short_text.append(cleaned_text[i])\n",
        "        short_summary.append(cleaned_summary[i])\n",
        "        \n",
        "df=pd.DataFrame({'text':short_text,'summary':short_summary})"
      ],
      "metadata": {
        "cellView": "form",
        "id": "Zt5QYtODc8qS"
      },
      "execution_count": 42,
      "outputs": []
    },
    {
      "cell_type": "code",
      "source": [
        "#@title Добавление маркеров в начале и в конце сводки\n",
        "df['summary'] = df['summary'].apply(lambda x : 'старток '+ x + ' ендток')\n",
        "for i in range(5):\n",
        "    print(\"Review:\",df['text'][i])\n",
        "    print(\"Summary:\",df['summary'][i])\n",
        "    print(\"\\n\")"
      ],
      "metadata": {
        "colab": {
          "base_uri": "https://localhost:8080/"
        },
        "cellView": "form",
        "id": "AuHkecTwd1YV",
        "outputId": "391dd5cc-f430-4a01-9f36-1a61bcda1312"
      },
      "execution_count": 43,
      "outputs": [
        {
          "output_type": "stream",
          "name": "stdout",
          "text": [
            "Review: нажмите логотип windows нижнем левом углу экрана находится нижней части меню пуск начнется поиск диспетчера задач находится верхней части меню пуск нажмите win это сработало откройте меню пуск введите выполнить нажмите выполнить system это папка которой хранятся системные файлы эта кнопка находится нижней части окна выполнить откроется папка system перейдите вкладку вид установите флажок показывать скрытые файлы уберите флажок скрывать расширения строке поиска верхней правой части окна введите wga затем дождитесь экране отобразится файл wgalogon dll щелкните нему правой кнопкой мыши нажмите переименовать введите bak имени файла расширения затем нажмите enter файл должен называться wgalogon dll bak возможно предложено подтвердить свои действия случае нажмите ok щелкните правой кнопкой мыши пустому пространству папке system выберите создать нажмите текстовый документ введите wgalogon качестве имени файла замените txt dll нажмите enter затем нажмите появится запрос файл процесс нужно быстро удалить папки диспетчера задач поэтому заранее найдите папка system найдете файл wgatray exe окне запрос wga введен строку поиска диспетчер задач перейдите вкладку процессы прокрутите вниз найдите wgatray exe нажмите выберите файл wgatray exe папке system нажмите клавишу del быстро перейдите окно диспетчера задач нажмите завершить процесс правом нижнем углу окна уведомление отображаться возможно придется повторить процесс уведомление снова появится рабочем столе обновить систему\n",
            "Summary: старток измените привычную рутину или отдохните от нее принимайте отпускаемые без рецепта нестероидные противовоспалительные средства прикладывайте лед верхней части спины принимайте ванны солью эпсома попробуйте аккуратно растягивать мышцы верхней части спины пользуйтесь гимнастическим валиком ендток\n",
            "\n",
            "\n",
            "Review: месть это форма ответной агрессии ответ чьи либо действия согласно расхожему выражению это блюдо которое подают холодным однако действительности сколько люди готовы выжидать ради мести готовы отказаться пользу иного вознаграждения известно мало психологи университета содружества виргинии решили заполнить пробел подробнее экспериментах которых приняли участие человек рассказали статье журнале motivation science одном участники соревновались противником быстрее нажмет кнопку этим выбирали раздастся случае победы наушниках оппонента шум сразу нажатия кнопки придется прослушать завтра вдвое громкий также участники видели вариант выбрал оппонент одним заданием общение чате двумя собеседниками пола эксперимент имитировал социальное отвержение стороны общества конечном итоге собеседники начинали общаться собой игнорируя участника конце мог наказать заставив держать руку ледяной воде секунд это позволило оценить насколько социальное отвержение способно сподвигнуть участников агрессию также участникам предлагалось поразмышлять человеке который разозлил прошлом просто наскучил затем оценить степень гнева печали других переживаний также оценить насколько хотят причинить этому человеку вред готовы подождать ради тяжелых последствий кроме заполняли опросники посвященные личностным характеристикам уровню агрессии склонности жестокости степени самоконтроля опрос посвящен тому насколько участники готовы отсрочить месть отказаться взамен получат некоторую сумму денег оказалось участников склонны мстить месть менее мучительной обидчика наши результаты показывают люди предпочитают месть посвежее холодный расчетливый отложенный подход подводит итог доктор дэвид честер авторов работы хотя большинство участников хотели расквитаться обидчиками скорее немалое количество оказалось готово потерпеть поразмышляв прошлых инцидентах участников оказались готовы подождать итоге неприятный человек пострадает сильнее многие готовы отказаться денег лишь отомстить усложняет ситуацию факт также обнаружили подобные люди обладают выраженными антагонистическими чертами характера такими садизм гневные размышления отмечает соавтор исследования доктор самуэль вест также те медлил местью имели высокий уровень самоконтроля разница результатах позволила разделить участников две категории месть видимому важна лишь одной пишут исследователи второй выступала качестве быстрого вознаграждения которое заменить например деньги целом большинство людей предпочитают немедленные действия отношению тому кого обиделись предпочтения могут меняться зависимости произошла ситуация личных качеств заключают исследователи серьезные провокации могут склонить человека сторону выжидания вынашивания плана мести сделать жестокой жизни одна провокация часто следует отмечают авторы работы шести исследованиях обнаружили люди относятся решениям мести другим вознаграждениям предпочитают решить вопрос позднее хотя выгодным результатом предпочтения легко менялись воздействием экспериментальной провокации люди выраженными антагонистическими чертами готовы подождать наказать обидчика посильнее ученые надеются результаты позволят разобраться мотивации агрессии антисоциального поведения\n",
            "Summary: старток определите свои жизненные ценности следите за тем чтобы ваши поступки соответствовали вашим ценностям составьте план придерживайтесь его живите настоящим моментом ведите дневник благодарности учитесь проявлять сочувствие сострадание переключитесь обиды на благодарность чтобы улучшить отношения другими людьми ендток\n",
            "\n",
            "\n",
            "Review: избавиться ощущения дискомфорта нужно прежде выпустить газ хотя процесс является естественным скорее расценен окружающими проявление плохих манер поэтому прежде выпустить газ выйдите туалет облегчить прохождение газа толстому кишечнику спеша прогуляться помассировать живот сверху вниз газ образуется толстом кишечнике результате брожения вызванного бактериями представляет собой смесь азота диоксида углерода метана серы этим объясняется неприятный запах газа метеоризм часто усиливается возрастом организме вырабатывается меньше ферментов необходимых переваривания пищи отрыжка позволяет выпустить газ противоположной стороны хотя помощью отрыжки удастся выпустить газ скопившийся нижних отделах кишечника позволит избавиться газа желудке верхних отделах пищеварительной системы желудке накапливаться воздух который заглатывается результате слишком быстрого приема пищи напитков питья соломинку жевания резинки курения отрыжка позволит легко безболезненно выпустить скопившийся желудке воздух спровоцировать отрыжку выпить небольшое количество газированного напитка однако нужно помнить неумеренное употребление газированных напитков способствует вздутию живота метеоризму простимулировать отрыжку воспользоваться натуральными средствами попробуйте имбирь мяту лимонный сок папайю забывайте громко отрыгивать людях считается неприличным некоторые продукты способствуют образованию кишечного газа плохо перевариваются состав входят вещества раздражающие желудок кишечник продуктам вызывающим метеоризм относятся фасоль горох чечевица капуста лук брокколи цветная капуста чернослив грибы причиной метеоризма вздутия живота диареи стать употребление большого количества нерастворимой клетчатки фруктозы глютена сырые овощи фрукты нужно понемногу тщательно пережевывать выжидать достаточно времени следующего приема пищи успели полностью перевариться глютеновая энтеропатия это заболевание котором плохо усваивается глютен результате раздражает кишечник провоцирует появление метеоризма болезненных ощущений животе также метеоризм синдрома раздраженного кишечника неспецифического язвенного колита болезни крона метеоризм могут спровоцировать напитки содержащие большое количество фруктозы газированные напитки содержащие заменители сахара пиво кофе относятся имбирь прошедший обработку мед перечная мята ромашка корица огурцы бананы ананасы семена фенхеля льна пробиотический йогурт кудрявая капуста непереносимость лактозы бывает организме вырабатывается недостаточное количество фермента лактаза помощью которого расщепляется переваривается молочный сахар непереваренная лактоза попадает толстый кишечник становится субстратом хороших бактерий бактерии используют качестве пищи осуществляя процесс брожения результате которого образуется газ побочный продукт симптомами непереносимости лактозы является метеоризм вздутие живота спазмы животе диарея предполагаете непереносимость лактозы исключите своего рациона молочные продукты особенно коровье молоко сыр сливки мороженое молочные коктейли мере взросления организме вырабатывается меньше меньше лактазы это значит увеличивается вероятность развития непереносимости лактозы употреблении молочных продуктов избежать повышенного газообразования боли животе других неприятных симптомов непереносимости лактозы принимать фермент лактазу капсулах фермент продается аптеках магазинах здорового питания выпейте несколько капсул фермента прежде съесть либо молочное боль животе вызвана кислотой желудке пищевая сода поможет нейтрализовать кислоту самым избавиться боли\n",
            "Summary: старток датский актер мадс миккельсен заменит джонни деппа новом фильме франшизы фантастические твари студии warner bros подтвердили что звезда ганнибала исполнит роль злодея геллерта грин де вальда ендток\n",
            "\n",
            "\n",
            "Review: россии сделать водороду геополитически сопоставимо делает россия углеводороду россия способна поставить задачу сохранения статуса великой энергетической державы замещением экспорта углеводородов экспорт водорода считает анатолий чубайс специалисты голос говорят действующая газотранспортная система способна крайней мере пропускных мощностей использовать транспорта водорода глубокой модернизации гтс такое фантастическое преимущество котором мечтать никто вцепиться зубами немедленно продвигаться направлении отметил чубайс своем выступлении петербургском международном экономическом форуме транснациональная нефтегазовая компания bp рассматривает водородные проекты роснефтью которой подписали феврале соглашение низкоуглеродном сотрудничестве совместных зеленых проектах глава bp дэвид кэмпбелл полях пмэф заявил риа новости россия стать лидером производству голубого водорода который получают природного газа использованием технологий улавливания хранения co россия обладает фантастическим запасом природного газа россия захочет тратить свой природный газ впустую поэтому думаю должна стать лидером области голубого водорода достаточно резервуаров использовать ccus это потребует поддержки правительства сказал топ менеджер одним крупных потенциальных импортеров водорода является евросоюз который поставил планах зеленой сделке достижение углеродной нейтральности году главным образом переход возобновляемые источники энергии потребуется числе водород согласно целям программы доля водородного топлива энергобалансе ес вырастет текущих менее пояснил газете ru ведущий эксперт фонда национальной энергетической безопасности игорь юшков одна сложностей перехода виэ проблемы хранения лишней энергии наоборот нехватки пиковые часы обеспечить надежность энергоснабжения ес планируют импортировать водород который играть роль хранилища энергии производят энергии слишком используют выработки хватает открывается окно возможностей россии можем производить поставлять водород весь водород мире производится природного газа метана производстве водорода газа улавливать парниковые газы получается голубой водород который занимает второе место желаемости европейцев рассказал юшков проблема транспортировки водорода имеющимся газопроводам технически решаемая определенной модернизации соответствующие исследования ведутся уточнил эксперт германией идут переговоры выходе северного потока северного потока построить завод производству водорода делать месте транспортировка метана простая прокачка водорода упирается цену такового мирового рынка пока страны основном производят нужд собственной промышленности пока начинают эксперименты экспорту например япония начала ввоз серого водорода австралии интересовалась импортом водорода россии южная корея никто понимает сколько стоить водород пока цены пока менее сформируется рынок водорода де факто никто принимать инвестрешение непонятно окупится производство думаю появления рынка водорода стоит ждать перспективе пяти семи лет увидим насколько успешно идет декарбонизация резюмировал ведущий эксперт фонда национальной энергетической безопасности писала газета ru россии принята дорожная карта среди потенциальных производителей водорода упоминаются газпром росатом причем росатом получил одобрение нацпроекта развития атомных технологий включая водородную энергетику года млрд руб производством водорода также интересовались роснано ростех новатэк роснефть лукойл другие компании\n",
            "Summary: старток точке сброса воды тяжелый самолет снижается до ста метров ендток\n",
            "\n",
            "\n",
            "Review: вините вспышки гнева отца злоупотребление алкоголем пренебрежение эмоциональную нестабильность многие дети думают родители плохо ведут сделали это похоже ваш случай перестаньте винить важно говорит ваш отец другие люди ответе поведение ваш отец взрослый человек поэтому несет ответственность трудно осознать это ваша вина обсудите свои чувства другим взрослым возможно поможет повторение подобных аффирмаций папа несет ответственность свои действия виноват поведении помните поведение вашего отца имеет никакого отношения действия могут результатом воспитания собственной травмы психического заболевания других факторов таким образом сможете обойти влияние избежать развития этих поведенческих моделей будущем свести минимуму вероятность злоупотребления психотропными веществами участвуйте внеклассной работе школе это поможет снизить риски постарайтесь определить нездоровое поведение которое хотите перенимать отца найдите образец подражания который демонстрирует желаемую модель поведения аналогично вами пренебрегают обижают начните заниматься психологом решения этих проблем получение помощи поможет свести минимуму вероятность повторите подобное отношение собственным детям ослабить влияние своего ужасного отца поискать позитивные отношения мужчинами которые ведут иначе формируйте отношения лидерами мужского пола учебе работе своем окружении влияние противостоять негативным последствиям жизни плохим отцом участвуйте менторских программах установить связь положительным примером подражания мужского пола обратиться учителю тренеру общественному активисту духовному наставнику сказать вроде антон васильевич правда равняюсь моего отца рядом думаете смогли наставлять подумайте отцах своих друзей вашего друга хороший отец спросите товарища можете проводить время вместе ними избавиться негативных последствий жизни ужасным отцом окружив друзьями членами семьи которые будут поддерживать несмотря отношения другими людьми необязательно заменят отца возможно это обеспечит защиту стресса положитесь хороших друзей членов семьи получения социальной поддержки\n",
            "Summary: старток помогайте бездомным людям помогайте женщинам ендток\n",
            "\n",
            "\n"
          ]
        }
      ]
    },
    {
      "cell_type": "code",
      "source": [
        "#@title Разделение на text и summary\n",
        "# x_tr, y_tr = data_test['text'], data_test['summ']\n",
        "\n",
        "from sklearn.model_selection import train_test_split\n",
        "x_tr,x_val,y_tr,y_val=train_test_split(np.array(df['text']),np.array(df['summary']),test_size=0.05,random_state=0,shuffle=True) "
      ],
      "metadata": {
        "cellView": "form",
        "id": "sBUzYNaFg-ny"
      },
      "execution_count": 44,
      "outputs": []
    },
    {
      "cell_type": "code",
      "source": [
        "#@title Подготовка токенизатора для анализа данных обучения\n",
        "x_tokenizer = Tokenizer() \n",
        "x_tokenizer.fit_on_texts(list(x_tr))"
      ],
      "metadata": {
        "cellView": "form",
        "id": "QgzLNqDCd9OO"
      },
      "execution_count": 45,
      "outputs": []
    },
    {
      "cell_type": "code",
      "source": [
        "#@title Подсчет количества редких и общеупотребительных слов в text\n",
        "thresh=4\n",
        "\n",
        "cnt=0\n",
        "tot_cnt=0\n",
        "freq=0\n",
        "tot_freq=0\n",
        "\n",
        "for key,value in x_tokenizer.word_counts.items():\n",
        "    tot_cnt=tot_cnt+1\n",
        "    tot_freq=tot_freq+value\n",
        "    if(value<thresh):\n",
        "        cnt=cnt+1\n",
        "        freq=freq+value\n",
        "    \n",
        "print(\"% из редких слов в словаре:\", round((cnt/tot_cnt)*10000)/100)\n",
        "print(\"Общий охват редких слов:\", round((freq/tot_freq)*10000)/100)"
      ],
      "metadata": {
        "colab": {
          "base_uri": "https://localhost:8080/"
        },
        "cellView": "form",
        "id": "1TfKGMiHhPiK",
        "outputId": "9b37beb7-5bf2-457c-c0f2-bab1a5e6dc20"
      },
      "execution_count": 46,
      "outputs": [
        {
          "output_type": "stream",
          "name": "stdout",
          "text": [
            "% из редких слов в словаре: 78.3\n",
            "Общий охват редких слов: 27.07\n"
          ]
        }
      ]
    },
    {
      "cell_type": "code",
      "source": [
        "#@title Определение токенизатора с помощью наиболее распространенных слов для обзоров\n",
        "#подготовка токенизатора для обзоров по данным обучения\n",
        "x_tokenizer = Tokenizer(num_words=tot_cnt-cnt) \n",
        "x_tokenizer.fit_on_texts(list(x_tr))\n",
        "\n",
        "#преобразование текстовых последовательностей в целочисленные последовательности\n",
        "x_tr_seq    =   x_tokenizer.texts_to_sequences(x_tr) \n",
        "x_val_seq   =   x_tokenizer.texts_to_sequences(x_val)\n",
        "\n",
        "#заполнение нуля до максимальной длины\n",
        "x_tr    =   pad_sequences(x_tr_seq,  maxlen=max_text_len, padding='post')\n",
        "x_val   =   pad_sequences(x_val_seq, maxlen=max_text_len, padding='post')\n",
        "\n",
        "#размер словарного запаса ( +1 для маркера заполнения)\n",
        "x_voc   =  x_tokenizer.num_words + 1"
      ],
      "metadata": {
        "cellView": "form",
        "id": "b8O02l3ViQTB"
      },
      "execution_count": 47,
      "outputs": []
    },
    {
      "cell_type": "code",
      "source": [
        "x_voc"
      ],
      "metadata": {
        "colab": {
          "base_uri": "https://localhost:8080/"
        },
        "id": "wjTtOeR_j5Ln",
        "outputId": "b417255f-193b-4081-ce01-93a41d1ceab4"
      },
      "execution_count": 48,
      "outputs": [
        {
          "output_type": "execute_result",
          "data": {
            "text/plain": [
              "10126"
            ]
          },
          "metadata": {},
          "execution_count": 48
        }
      ]
    },
    {
      "cell_type": "code",
      "source": [
        "#@title Подготовка токенизатора для summary по данным обучения\n",
        "y_tokenizer = Tokenizer()\n",
        "y_tokenizer.fit_on_texts(list(y_tr))"
      ],
      "metadata": {
        "cellView": "form",
        "id": "kH5R6tW4j_p_"
      },
      "execution_count": 49,
      "outputs": []
    },
    {
      "cell_type": "code",
      "source": [
        "#@title Подсчет количества редких и общеупотребительных слов в summary\n",
        "thresh=6\n",
        "\n",
        "cnt=0\n",
        "tot_cnt=0\n",
        "freq=0\n",
        "tot_freq=0\n",
        "\n",
        "for key,value in y_tokenizer.word_counts.items():\n",
        "    tot_cnt=tot_cnt+1\n",
        "    tot_freq=tot_freq+value\n",
        "    if(value<thresh):\n",
        "        cnt=cnt+1\n",
        "        freq=freq+value\n",
        "    \n",
        "print(\"% of rare words in vocabulary:\", round((cnt/tot_cnt)*10000)/100)\n",
        "print(\"Total Coverage of rare words:\", round((freq/tot_freq)*10000)/100)"
      ],
      "metadata": {
        "colab": {
          "base_uri": "https://localhost:8080/"
        },
        "cellView": "form",
        "id": "oY2ymLUskVvL",
        "outputId": "07ba51ab-a583-462a-9d12-b086b2c518bb"
      },
      "execution_count": 50,
      "outputs": [
        {
          "output_type": "stream",
          "name": "stdout",
          "text": [
            "% of rare words in vocabulary: 95.21\n",
            "Total Coverage of rare words: 59.37\n"
          ]
        }
      ]
    },
    {
      "cell_type": "code",
      "source": [
        "#@title Определение токенизатора с помощью наиболее распространенных слов для обзоров\n",
        "#подготовка токенизатора для обзоров по данным обучения\n",
        "y_tokenizer = Tokenizer(num_words=tot_cnt-cnt) \n",
        "y_tokenizer.fit_on_texts(list(y_tr))\n",
        "\n",
        "#преобразование текстовых последовательностей в целочисленные последовательности\n",
        "y_tr_seq    =   y_tokenizer.texts_to_sequences(y_tr) \n",
        "y_val_seq   =   y_tokenizer.texts_to_sequences(y_val) \n",
        "\n",
        "#заполнение нуля до максимальной длины\n",
        "y_tr    =   pad_sequences(y_tr_seq, maxlen=max_summary_len, padding='post')\n",
        "y_val   =   pad_sequences(y_val_seq, maxlen=max_summary_len, padding='post')\n",
        "\n",
        "#размер словарного запаса ( +1 для маркера заполнения)\n",
        "y_voc  =   y_tokenizer.num_words +1"
      ],
      "metadata": {
        "id": "fp8SSRsQkjDr"
      },
      "execution_count": 51,
      "outputs": []
    },
    {
      "cell_type": "code",
      "source": [
        "#@title Количество контрольных слов в стартовом токене равно длине обучающих данных\n",
        "y_tokenizer.word_counts['старток'],len(y_tr)"
      ],
      "metadata": {
        "colab": {
          "base_uri": "https://localhost:8080/"
        },
        "id": "V2rjD3nNk2jX",
        "outputId": "1ee69fc9-6625-482e-a2bd-33956f695dc1"
      },
      "execution_count": 52,
      "outputs": [
        {
          "output_type": "execute_result",
          "data": {
            "text/plain": [
              "(755, 755)"
            ]
          },
          "metadata": {},
          "execution_count": 52
        }
      ]
    },
    {
      "cell_type": "code",
      "source": [
        "#@title Удаление строк из train, содержащих только начальные и конечные токены\n",
        "ind=[]\n",
        "for i in range(len(y_tr)):\n",
        "    cnt=0\n",
        "    for j in y_tr[i]:\n",
        "        if j!=0:\n",
        "            cnt=cnt+1\n",
        "    if(cnt==2):\n",
        "        ind.append(i)\n",
        "\n",
        "y_tr=np.delete(y_tr,ind, axis=0)\n",
        "x_tr=np.delete(x_tr,ind, axis=0)"
      ],
      "metadata": {
        "id": "48Yqw451lB5b"
      },
      "execution_count": 53,
      "outputs": []
    },
    {
      "cell_type": "code",
      "source": [
        "#@title Удаление строк из test, содержащих только начальные и конечные токены\n",
        "ind=[]\n",
        "for i in range(len(y_val)):\n",
        "    cnt=0\n",
        "    for j in y_val[i]:\n",
        "        if j!=0:\n",
        "            cnt=cnt+1\n",
        "    if(cnt==2):\n",
        "        ind.append(i)\n",
        "\n",
        "y_val=np.delete(y_val,ind, axis=0)\n",
        "x_val=np.delete(x_val,ind, axis=0)"
      ],
      "metadata": {
        "id": "qHfG9DNBlIbL"
      },
      "execution_count": 54,
      "outputs": []
    },
    {
      "cell_type": "code",
      "source": [
        "#@title Построение модели, определение уровней LSTM, кодировщик и декодер\n",
        "from keras import backend as K \n",
        "K.clear_session()\n",
        "\n",
        "latent_dim = 300\n",
        "embedding_dim=100\n",
        "\n",
        "# Encoder\n",
        "encoder_inputs = Input(shape=(max_text_len,))\n",
        "\n",
        "# встраивающий слой\n",
        "enc_emb =  Embedding(x_voc, embedding_dim,trainable=True)(encoder_inputs)\n",
        "\n",
        "#encoder lstm 1\n",
        "encoder_lstm1 = LSTM(latent_dim,return_sequences=True,return_state=True,dropout=0.4,recurrent_dropout=0.4)\n",
        "encoder_output1, state_h1, state_c1 = encoder_lstm1(enc_emb)\n",
        "\n",
        "#encoder lstm 2\n",
        "encoder_lstm2 = LSTM(latent_dim,return_sequences=True,return_state=True,dropout=0.4,recurrent_dropout=0.4)\n",
        "encoder_output2, state_h2, state_c2 = encoder_lstm2(encoder_output1)\n",
        "\n",
        "#encoder lstm 3\n",
        "encoder_lstm3=LSTM(latent_dim, return_state=True, return_sequences=True,dropout=0.4,recurrent_dropout=0.4)\n",
        "encoder_outputs, state_h, state_c= encoder_lstm3(encoder_output2)\n",
        "\n",
        "# Настройте декодер, используя `encoder_states` в качестве начального состояния.\n",
        "decoder_inputs = Input(shape=(None,))\n",
        "\n",
        "# встраивающий слой\n",
        "dec_emb_layer = Embedding(y_voc, embedding_dim,trainable=True)\n",
        "dec_emb = dec_emb_layer(decoder_inputs)\n",
        "\n",
        "decoder_lstm = LSTM(latent_dim, return_sequences=True, return_state=True,dropout=0.4,recurrent_dropout=0.2)\n",
        "decoder_outputs,decoder_fwd_state, decoder_back_state = decoder_lstm(dec_emb,initial_state=[state_h, state_c])\n",
        "\n",
        "# Слой внимания\n",
        "# attn_layer = AttentionLayer(name='attention_layer')\n",
        "# attn_out, attn_states = attn_layer([encoder_outputs, decoder_outputs])\n",
        "\n",
        "# Объединенный входной сигнал и выход LSTM декодера\n",
        "# decoder_concat_input = Concatenate(axis=-1, name='concat_layer')([decoder_outputs, attn_out])\n",
        "decoder_concat_input = Concatenate(axis=-1, name='concat_layer')([decoder_outputs])\n",
        "\n",
        "# плотный слой\n",
        "decoder_dense =  TimeDistributed(Dense(y_voc, activation='softmax'))\n",
        "decoder_outputs = decoder_dense(decoder_concat_input)\n",
        "\n",
        "# Определите модель\n",
        "model = Model([encoder_inputs, decoder_inputs], decoder_outputs)\n",
        "\n",
        "model.summary() "
      ],
      "metadata": {
        "colab": {
          "base_uri": "https://localhost:8080/"
        },
        "cellView": "form",
        "id": "kiJ-ENzqlPuv",
        "outputId": "5c122a63-4ee4-4172-fbac-de5c78cffc23"
      },
      "execution_count": 55,
      "outputs": [
        {
          "output_type": "stream",
          "name": "stdout",
          "text": [
            "Model: \"model\"\n",
            "__________________________________________________________________________________________________\n",
            " Layer (type)                   Output Shape         Param #     Connected to                     \n",
            "==================================================================================================\n",
            " input_1 (InputLayer)           [(None, 500)]        0           []                               \n",
            "                                                                                                  \n",
            " embedding (Embedding)          (None, 500, 100)     1012600     ['input_1[0][0]']                \n",
            "                                                                                                  \n",
            " lstm (LSTM)                    [(None, 500, 300),   481200      ['embedding[0][0]']              \n",
            "                                 (None, 300),                                                     \n",
            "                                 (None, 300)]                                                     \n",
            "                                                                                                  \n",
            " input_2 (InputLayer)           [(None, None)]       0           []                               \n",
            "                                                                                                  \n",
            " lstm_1 (LSTM)                  [(None, 500, 300),   721200      ['lstm[0][0]']                   \n",
            "                                 (None, 300),                                                     \n",
            "                                 (None, 300)]                                                     \n",
            "                                                                                                  \n",
            " embedding_1 (Embedding)        (None, None, 100)    46500       ['input_2[0][0]']                \n",
            "                                                                                                  \n",
            " lstm_2 (LSTM)                  [(None, 500, 300),   721200      ['lstm_1[0][0]']                 \n",
            "                                 (None, 300),                                                     \n",
            "                                 (None, 300)]                                                     \n",
            "                                                                                                  \n",
            " lstm_3 (LSTM)                  [(None, None, 300),  481200      ['embedding_1[0][0]',            \n",
            "                                 (None, 300),                     'lstm_2[0][1]',                 \n",
            "                                 (None, 300)]                     'lstm_2[0][2]']                 \n",
            "                                                                                                  \n",
            " concat_layer (Concatenate)     (None, None, 300)    0           ['lstm_3[0][0]']                 \n",
            "                                                                                                  \n",
            " time_distributed (TimeDistribu  (None, None, 465)   139965      ['concat_layer[0][0]']           \n",
            " ted)                                                                                             \n",
            "                                                                                                  \n",
            "==================================================================================================\n",
            "Total params: 3,603,865\n",
            "Trainable params: 3,603,865\n",
            "Non-trainable params: 0\n",
            "__________________________________________________________________________________________________\n"
          ]
        }
      ]
    },
    {
      "cell_type": "code",
      "source": [
        "model.compile(optimizer='rmsprop', loss='sparse_categorical_crossentropy')"
      ],
      "metadata": {
        "id": "oI4tGHF3ojqR"
      },
      "execution_count": 56,
      "outputs": []
    },
    {
      "cell_type": "code",
      "source": [
        "#@title Мониторинг потери валидации\n",
        "es = [EarlyStopping(monitor='val_loss', mode='min', verbose=1,patience=2), \n",
        "      ModelCheckpoint('./MyModel_tf',monitor='val_loss', verbose=1,\n",
        "                      save_best_only=True, mode='min', save_weights_only = False)]"
      ],
      "metadata": {
        "id": "VHWtdfw8os2B"
      },
      "execution_count": 57,
      "outputs": []
    },
    {
      "cell_type": "code",
      "source": [
        "#@title Обучает модель в пакете размером 512 и проверяет ее на 10% набора данных\n",
        "history=model.fit([x_tr,y_tr[:,:-1]], y_tr.reshape(y_tr.shape[0],y_tr.shape[1], 1)[:,1:] ,\\\n",
        "                  epochs=50,callbacks=[es],batch_size=512, validation_data=([x_val,y_val[:,:-1]], y_val.reshape(y_val.shape[0],y_val.shape[1], 1)[:,1:]))"
      ],
      "metadata": {
        "colab": {
          "base_uri": "https://localhost:8080/"
        },
        "id": "R8m99yv7o1qK",
        "outputId": "724fe9c3-9328-4414-af46-5f8b0ad8e816"
      },
      "execution_count": null,
      "outputs": [
        {
          "output_type": "stream",
          "name": "stdout",
          "text": [
            "Epoch 1/50\n"
          ]
        }
      ]
    },
    {
      "cell_type": "code",
      "source": [
        "# сериализует модель в JSON\n",
        "model_json = model.to_json()\n",
        "with open(\"summary.json\", \"w\") as json_file:\n",
        "    json_file.write(model_json)\n",
        "# Сохраненная модель на диск\n",
        "model.save_weights(\"summary.h5\")\n",
        "print(\"Saved model to disk\")"
      ],
      "metadata": {
        "id": "BIZfuLWGpvun",
        "outputId": "e1e1a6cc-b1bc-448d-fa07-4d939f0d225b",
        "colab": {
          "base_uri": "https://localhost:8080/",
          "height": 243
        }
      },
      "execution_count": 1,
      "outputs": [
        {
          "output_type": "error",
          "ename": "NameError",
          "evalue": "ignored",
          "traceback": [
            "\u001b[0;31m---------------------------------------------------------------------------\u001b[0m",
            "\u001b[0;31mNameError\u001b[0m                                 Traceback (most recent call last)",
            "\u001b[0;32m<ipython-input-1-323add86cc2e>\u001b[0m in \u001b[0;36m<cell line: 2>\u001b[0;34m()\u001b[0m\n\u001b[1;32m      1\u001b[0m \u001b[0;31m# сериализует модель в JSON\u001b[0m\u001b[0;34m\u001b[0m\u001b[0;34m\u001b[0m\u001b[0m\n\u001b[0;32m----> 2\u001b[0;31m \u001b[0mmodel_json\u001b[0m \u001b[0;34m=\u001b[0m \u001b[0mmodel\u001b[0m\u001b[0;34m.\u001b[0m\u001b[0mto_json\u001b[0m\u001b[0;34m(\u001b[0m\u001b[0;34m)\u001b[0m\u001b[0;34m\u001b[0m\u001b[0;34m\u001b[0m\u001b[0m\n\u001b[0m\u001b[1;32m      3\u001b[0m \u001b[0;32mwith\u001b[0m \u001b[0mopen\u001b[0m\u001b[0;34m(\u001b[0m\u001b[0;34m\"summary.json\"\u001b[0m\u001b[0;34m,\u001b[0m \u001b[0;34m\"w\"\u001b[0m\u001b[0;34m)\u001b[0m \u001b[0;32mas\u001b[0m \u001b[0mjson_file\u001b[0m\u001b[0;34m:\u001b[0m\u001b[0;34m\u001b[0m\u001b[0;34m\u001b[0m\u001b[0m\n\u001b[1;32m      4\u001b[0m     \u001b[0mjson_file\u001b[0m\u001b[0;34m.\u001b[0m\u001b[0mwrite\u001b[0m\u001b[0;34m(\u001b[0m\u001b[0mmodel_json\u001b[0m\u001b[0;34m)\u001b[0m\u001b[0;34m\u001b[0m\u001b[0;34m\u001b[0m\u001b[0m\n\u001b[1;32m      5\u001b[0m \u001b[0;31m# Сохраненная модель на диск\u001b[0m\u001b[0;34m\u001b[0m\u001b[0;34m\u001b[0m\u001b[0m\n",
            "\u001b[0;31mNameError\u001b[0m: name 'model' is not defined"
          ]
        }
      ]
    }
  ]
}