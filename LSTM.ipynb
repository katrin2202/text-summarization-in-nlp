{
  "nbformat": 4,
  "nbformat_minor": 0,
  "metadata": {
    "colab": {
      "provenance": [],
      "authorship_tag": "ABX9TyM2NrrjvPVmKfUPD7Qqvv9N",
      "include_colab_link": true
    },
    "kernelspec": {
      "name": "python3",
      "display_name": "Python 3"
    },
    "language_info": {
      "name": "python"
    },
    "gpuClass": "standard"
  },
  "cells": [
    {
      "cell_type": "markdown",
      "metadata": {
        "id": "view-in-github",
        "colab_type": "text"
      },
      "source": [
        "<a href=\"https://colab.research.google.com/github/katrin2202/text-summarization-in-nlp/blob/main/LSTM.ipynb\" target=\"_parent\"><img src=\"https://colab.research.google.com/assets/colab-badge.svg\" alt=\"Open In Colab\"/></a>"
      ]
    },
    {
      "cell_type": "markdown",
      "source": [
        "# Создание нейронки LSTM"
      ],
      "metadata": {
        "id": "CSJ67wuzkS2H"
      }
    },
    {
      "cell_type": "markdown",
      "source": [
        "https://github.com/sujanshirol/Test-Summarization-LSTMs"
      ],
      "metadata": {
        "id": "nmsCSc2U2sQX"
      }
    },
    {
      "cell_type": "code",
      "source": [
        "#@title Скачиваем нужные библиотеки\n",
        "%%capture\n",
        "!pip install nltk\n",
        "!pip install datasets\n",
        "!pip install keras\n",
        "!pip install keras_preprocessing"
      ],
      "metadata": {
        "id": "xQ8c17g3ms0A"
      },
      "execution_count": 2,
      "outputs": []
    },
    {
      "cell_type": "code",
      "execution_count": 31,
      "metadata": {
        "id": "UhsyeJG5kPSV"
      },
      "outputs": [],
      "source": [
        "#@title Подключение библиотек\n",
        "import numpy as np\n",
        "import pandas as pd  \n",
        "import re\n",
        "import datasets\n",
        "from datasets import Dataset, DatasetDict, load_dataset, load_from_disk\n",
        "from bs4 import BeautifulSoup\n",
        "from keras.preprocessing.text import Tokenizer \n",
        "from keras_preprocessing.sequence import pad_sequences\n",
        "from tensorflow.keras.layers import Input, LSTM, Embedding, Dense, Concatenate, TimeDistributed, AdditiveAttention\n",
        "from tensorflow.keras.models import Model\n",
        "from tensorflow.keras.callbacks import EarlyStopping, ModelCheckpoint\n",
        "import warnings\n",
        "pd.set_option(\"display.max_colwidth\", 200)\n",
        "warnings.filterwarnings(\"ignore\")"
      ]
    },
    {
      "cell_type": "code",
      "source": [
        "#@title Загрузка датасета\n",
        "dataset=pd.read_csv(\"my-dataset-val.csv\")\n",
        "print(dataset.info())\n",
        "dataset[:1000].to_csv('my-dataset-val1000.csv', index=False)"
      ],
      "metadata": {
        "colab": {
          "base_uri": "https://localhost:8080/"
        },
        "id": "LChAYLF_vy0d",
        "outputId": "0e9a6a07-57d2-4bfe-a4dc-d8d6e10fb723"
      },
      "execution_count": 5,
      "outputs": [
        {
          "output_type": "stream",
          "name": "stdout",
          "text": [
            "<class 'pandas.core.frame.DataFrame'>\n",
            "RangeIndex: 12103 entries, 0 to 12102\n",
            "Data columns (total 2 columns):\n",
            " #   Column  Non-Null Count  Dtype \n",
            "---  ------  --------------  ----- \n",
            " 0   summ    12103 non-null  object\n",
            " 1   text    12103 non-null  object\n",
            "dtypes: object(2)\n",
            "memory usage: 189.2+ KB\n",
            "None\n"
          ]
        }
      ]
    },
    {
      "cell_type": "code",
      "source": [
        "data_test=pd.read_csv(\"my-dataset-val1000.csv\")\n",
        "print(data_test.info())"
      ],
      "metadata": {
        "id": "n4ALlvDfa6OP",
        "outputId": "1352ab07-cf81-45cb-a05c-3e62239ab5bd",
        "colab": {
          "base_uri": "https://localhost:8080/"
        }
      },
      "execution_count": 6,
      "outputs": [
        {
          "output_type": "stream",
          "name": "stdout",
          "text": [
            "<class 'pandas.core.frame.DataFrame'>\n",
            "RangeIndex: 1000 entries, 0 to 999\n",
            "Data columns (total 2 columns):\n",
            " #   Column  Non-Null Count  Dtype \n",
            "---  ------  --------------  ----- \n",
            " 0   summ    1000 non-null   object\n",
            " 1   text    1000 non-null   object\n",
            "dtypes: object(2)\n",
            "memory usage: 15.8+ KB\n",
            "None\n"
          ]
        }
      ]
    },
    {
      "cell_type": "code",
      "source": [
        "dataset = load_dataset('csv', data_files={'train': 'my-dataset-train.csv', 'val': 'my-dataset-val.csv', 'test': 'my-dataset-test.csv'})\n",
        "dataset"
      ],
      "metadata": {
        "id": "4O-WpEUU9TjP"
      },
      "execution_count": null,
      "outputs": []
    },
    {
      "cell_type": "code",
      "source": [
        "#@title Загрузка стоп слов\n",
        "import nltk\n",
        "nltk.download('stopwords')\n",
        "from nltk.corpus import stopwords\n",
        "stop_words = set(stopwords.words(\"russian\"))"
      ],
      "metadata": {
        "colab": {
          "base_uri": "https://localhost:8080/"
        },
        "id": "WoI656lyxXHW",
        "outputId": "cc457d19-d3b9-49d5-b4d6-774b5fa3fd2b"
      },
      "execution_count": 7,
      "outputs": [
        {
          "output_type": "stream",
          "name": "stderr",
          "text": [
            "[nltk_data] Downloading package stopwords to /root/nltk_data...\n",
            "[nltk_data]   Unzipping corpora/stopwords.zip.\n"
          ]
        }
      ]
    },
    {
      "cell_type": "code",
      "source": [
        "#@title Функция очистки текстов и результатов\n",
        "def text_cleaner(text,num):\n",
        "    newString = text.lower()\n",
        "    newString = BeautifulSoup(newString, \"lxml\").text\n",
        "    newString = re.sub(r'\\([^)]*\\)', '', newString)\n",
        "    newString = re.sub('\"','', newString)\n",
        "    # newString = ' '.join([contraction_mapping[t] if t in contraction_mapping else t for t in newString.split(\" \")])    \n",
        "    newString = re.sub(r\"'s\\b\",\"\",newString)\n",
        "    newString = re.sub(\"[^a-zA-Zа-яА-Я]\", \" \", newString) \n",
        "    newString = re.sub('[m]{2,}', 'mm', newString)\n",
        "    if(num==0):\n",
        "        tokens = [w for w in newString.split() if not w in stop_words]\n",
        "    else:\n",
        "        tokens=newString.split()\n",
        "    long_words=[]\n",
        "    for i in tokens:\n",
        "        if len(i)>1:                                                 #removing short word\n",
        "            long_words.append(i)   \n",
        "    return (\" \".join(long_words)).strip()\n"
      ],
      "metadata": {
        "id": "ec3JKBvD5Wzl"
      },
      "execution_count": 8,
      "outputs": []
    },
    {
      "cell_type": "code",
      "source": [
        "#@title Очистка данных text\n",
        "cleaned_text = []\n",
        "for t in data_test['text']:\n",
        "    cleaned_text.append(text_cleaner(t,0))\n",
        "# cleaned_text[:5]  "
      ],
      "metadata": {
        "id": "R5WGSUAG8yCr"
      },
      "execution_count": 9,
      "outputs": []
    },
    {
      "cell_type": "code",
      "source": [
        "#@title Очистка данных summ\n",
        "cleaned_summary = []\n",
        "for t in data_test['summ']:\n",
        "    cleaned_summary.append(text_cleaner(t,1))\n",
        "# cleaned_summary[:5]"
      ],
      "metadata": {
        "id": "ferdPkpY8lRp"
      },
      "execution_count": 10,
      "outputs": []
    },
    {
      "cell_type": "code",
      "source": [
        "#@title Дабавляем очищенные данные в датасет\n",
        "data_test['cleaned_text']=cleaned_text\n",
        "data_test['cleaned_summary']=cleaned_summary"
      ],
      "metadata": {
        "id": "S-mfb9S1arnr"
      },
      "execution_count": 11,
      "outputs": []
    },
    {
      "cell_type": "code",
      "source": [
        "#@title Визуализация данных\n",
        "import matplotlib.pyplot as plt\n",
        "\n",
        "text_word_count = []\n",
        "summary_word_count = []\n",
        "\n",
        "# populate the lists with sentence lengths\n",
        "for i in data_test['cleaned_text']:\n",
        "      text_word_count.append(len(i.split()))\n",
        "\n",
        "for i in data_test['cleaned_summary']:\n",
        "      summary_word_count.append(len(i.split()))\n",
        "\n",
        "length_df = pd.DataFrame({'text':text_word_count, 'summary':summary_word_count})\n",
        "\n",
        "length_df.hist(bins = 30)\n",
        "plt.show()"
      ],
      "metadata": {
        "colab": {
          "base_uri": "https://localhost:8080/",
          "height": 452
        },
        "id": "8AUwD8rVa1bv",
        "outputId": "b3c05321-13f2-42a8-a9a3-080fce06a035"
      },
      "execution_count": 12,
      "outputs": [
        {
          "output_type": "display_data",
          "data": {
            "text/plain": [
              "<Figure size 640x480 with 2 Axes>"
            ],
            "image/png": "[encoded data removed]"
          },
          "metadata": {}
        }
      ]
    },
    {
      "cell_type": "code",
      "source": [
        "#@title Процент обобщенного текста в котором меньше 25 слов\n",
        "cnt=0\n",
        "for i in data_test['cleaned_summary']:\n",
        "    if(len(i.split())<=50):\n",
        "        cnt=cnt+1\n",
        "print(round(cnt/len(data_test['cleaned_summary'])*10000) / 100)"
      ],
      "metadata": {
        "colab": {
          "base_uri": "https://localhost:8080/"
        },
        "id": "PNKA97gsbQ5d",
        "outputId": "20891b0d-a0a8-477c-eabd-d7f29b19e42b"
      },
      "execution_count": 13,
      "outputs": [
        {
          "output_type": "stream",
          "name": "stdout",
          "text": [
            "89.7\n"
          ]
        }
      ]
    },
    {
      "cell_type": "code",
      "source": [
        "#@title Процент исходного текста меньше 100 слов\n",
        "cnt=0\n",
        "for i in data_test['cleaned_text']:\n",
        "    if(len(i.split())<=500):\n",
        "        cnt=cnt+1\n",
        "print(round(cnt/len(data_test['cleaned_text'])*10000) / 100)\n"
      ],
      "metadata": {
        "colab": {
          "base_uri": "https://localhost:8080/"
        },
        "id": "lfsnI8PHbsEN",
        "outputId": "877bc212-a450-4277-dafd-71386ca89503"
      },
      "execution_count": 14,
      "outputs": [
        {
          "output_type": "stream",
          "name": "stdout",
          "text": [
            "87.3\n"
          ]
        }
      ]
    },
    {
      "cell_type": "code",
      "source": [
        "#@title Максимальная длина текста\n",
        "max_text_len=500\n",
        "max_summary_len=50"
      ],
      "metadata": {
        "id": "Yuuj-z-Rb9-4"
      },
      "execution_count": 15,
      "outputs": []
    },
    {
      "cell_type": "code",
      "source": [
        "#@title Избавимся от выборосов\n",
        "cleaned_text =np.array(data_test['cleaned_text'])\n",
        "cleaned_summary=np.array(data_test['cleaned_summary'])\n",
        "\n",
        "short_text=[]\n",
        "short_summary=[]\n",
        "\n",
        "for i in range(len(cleaned_text)):\n",
        "    if(len(cleaned_summary[i].split())<=max_summary_len and len(cleaned_text[i].split())<=max_text_len):\n",
        "        short_text.append(cleaned_text[i])\n",
        "        short_summary.append(cleaned_summary[i])\n",
        "        \n",
        "df=pd.DataFrame({'text':short_text,'summary':short_summary})"
      ],
      "metadata": {
        "cellView": "form",
        "id": "Zt5QYtODc8qS"
      },
      "execution_count": 16,
      "outputs": []
    },
    {
      "cell_type": "code",
      "source": [
        "#@title Добавление маркеров в начале и в конце сводки\n",
        "df['summary'] = df['summary'].apply(lambda x : 'старток '+ x + ' ендток')\n",
        "for i in range(5):\n",
        "    print(\"Review:\",df['text'][i])\n",
        "    print(\"Summary:\",df['summary'][i])\n",
        "    print(\"\\n\")"
      ],
      "metadata": {
        "colab": {
          "base_uri": "https://localhost:8080/"
        },
        "cellView": "form",
        "id": "AuHkecTwd1YV",
        "outputId": "5c83b27d-d795-42e5-ad8b-686f3629dbd3"
      },
      "execution_count": 17,
      "outputs": [
        {
          "output_type": "stream",
          "name": "stdout",
          "text": [
            "Review: выберите нужный товар затем нажмите кнопку оплатить купить выиграли предмет аукционе снова придется нажать кнопку pay now buy now вместо оплаты дебетовой кредитной картой paypal нажмите кнопку погашения подарочной карты сертификата купона перенаправят страницу нужно ввести код подарочных картах сертификатах купонах код который необходимо ввести ebay код либо прислан электронной почте либо напечатан обратной стороне карты введите код предоставленное поле нажмите погасить нажмите кнопку применить затем кнопку далее попросят войти свой аккаунт сделали собственного аккаунта закажите товар гостевой аккаунт случае придется указать адрес доставки проверьте данные убедитесь правильности адреса доставки имени номера телефона прочей информации затем нажмите кнопку подтвердить платеж завершить заказ\n",
            "Summary: старток откройте раздел музыки вашей библиотеке itunes перейдите на вкладку itunes store нажмите ссылку бесплатно на itunes меню справа просмотрите выбор бесплатных музыкальных телевизионных шоу нажмите кнопку получить чтобы начать загрузку контента войдите свой apple id если будет предложено подождите пока контент загрузится ендток\n",
            "\n",
            "\n",
            "Review: вечером марта сми появилась информация народный артист россии игорь николаев доставлен инфекционную больницу коммунарке предварительным положительным анализом коронавирус сообщил telegram канал одной первых данные сообщения отреагировала певица наташа королева бывшая супруга композитора исполнительница призналась знает текущем состоянии летнего николаева также посоветовала представителям прессы перепроверять информацию подобного толка честно говоря курсе информации связывалась поэтому знаю знаете очень ложной информации сначала перепроверяйте информацию ходят слухи цитирует немногим позднее слова поддержки николаеву высказал комментатор дмитрий губерниев подозрение игоря николаева усы мои держитесь написал своем telegram канале ночь марта сведения подозрении коронавирус николаева подтвердила помощница юлия словам музыкант сдал анализ covid результаты которого станут известны позднее говоря состоянии композитора заявила люди болеем периоды осень весна слава богу выздоравливаем утром марта сети появились слухи николаеву диагностирована очаговая пневмония врачи оценивают состояние средней степени тяжести окончательные результаты анализа пока получил будут готовы течение двух дней уточнял источник ранее коронавирус выявлен другого народного артиста страны летнего льва лещенко попадании певца супруги ирины инфекционную больницу коммунарки подозрением коронавирус сми стало известно марта спустя несколько дней диагноз исполнителя подтвердил главный врач медучреждения денис проценко спекуляции некоторых сми тему состояния здоровья льва валерьяновича лещенко заставили утром спросить официального разрешения опубликовать пост заявил главврач facebook поступил нам стационар клинико рентгенологической картиной внебольничной пневмонии дообследования подтверждена коронавирусная этиология пневмонии словам проценко первые сутки поступления состояние лещенко ухудшилось однако позднее удалось стабилизировать первые сутки поступления состояние пациента ухудшилось наросла одышка снизились показатели оксигенации крови связи этим продолжили лечение условиях отделения реанимации сегодняшний день состояние пациента стабильно нуждается дополнительном кислороде планируем продолжить лечение госпитальном отделении заключил главврач фоне тревожных сведений лещенко сми вспомнили незадолго госпитализации народный артист участвовал съемках шоу андрея малахова отмечалось студии вместе певцом находились поэтесса лариса рубальская юморист геннадий хазанов певец аркадий укупник ведущая ангелина вовк певица екатерина шаврина хазанов заявил газете ru собирается сдавать тест коронавирус контакта лещенко планирую тест сдавать заразиться боюсь времени прошло пояснил артист помимо лещенко коронавирус диагностировали также писателя бориса акунина проживающего великобритании забросил facebook валяюсь модной болезнью сообщил социальных сетях малость окрепну обязательно поделюсь впечатлениями вместе автор выразил мнение страх covid гораздо страшнее самого коронавируса осторожным нужно паниковать незачем уточнил летний писатель\n",
            "Summary: старток определите свои проблемные зоны примиритесь со своим прошлым поработайте над своими отношениями прощайте других людей не будьте материалистом внесите изменения там где это необходимо разберитесь токсичными людьми ендток\n",
            "\n",
            "\n",
            "Review: стимулятор представляет собой порошок жидкость которые способствуют образованию новых корней молодых клеток существует множество стимуляторов корнеобразования однако многие садоводы предпочитают использовать мед осторожно покройте конец стебля стимулятором перенесите черенок среду проращивания постарайтесь прикасаться нижнему концу черенка руками результате нем остаться жир помешает действию стимулятора корнеобразования метод подходит новичков позволяет наблюдать развитием корней налейте чистую бутылку теплую воду покрывала дно сантиметров добавьте каплю перекиси водорода осторожно поставьте черенки бутылку проследите листья касались воды забывайте неделю менять воду просто доставайте черенки воды выливайте заливайте свежую воду это поможет предотвратить рост микробов данный метод даст возможность следить ростом корней примерно неделю появятся белые бугорки четыре недели увидите первые корни использовать водопроводную воду установлен умягчитель воды смягченная вода содержит слишком натрия помешает гибискусу пустить корни срезали черенки ближе концу лета могут темно зелеными частично покрытыми корой такие черенки хуже пускают корни случае засыпьте горшок верхний слой почвы покрывал дно сантиметров карандашом сделайте ямки черенков аккуратно поместите черенки ямки уплотните почву вокруг втыкайте черенки почву просто сделав предварительно ямки повредить стебель удалить стимулятор корнеобразования приготовьте горшке смесь трех частей песка одной части сфагнума равномерно полейте почву карандашом сделайте ямки черенков аккуратно поместите черенки ямки уплотните вокруг почву поместите черенки почву полейте высохла слишком быстро аккуратно накройте черенки прозрачной пленкой удержать влагу разместите вместе пленкой освещенном месте успешного прорастания черенки должны течение дня находиться непрямым солнечным светом оставьте снизу пленки небольшой зазор вырежьте сверху отверстия ходе роста черенков доступ свежему воздуху гибискус любит воду влажная среда поможет черенкам пустить корни слегка опрыскивайте водой каждый день почва оставалась влажной слишком мокрой почва станет слишком мокрой снимите пластиковую пленку начните поливать черенки день чрезмерный полив привести корневой гнили почва высыхает слишком быстро обильнее поливайте черенки каждый день это поможет переставьте горшок немного прохладное менее освещаемое место корни станут достаточно крепкими пересадки верхушках черенков начнут расти новые листья аккуратно достаньте черенки почвы пересадить горшки проращиваете черенки воде дождитесь пока корни изменят цвет белого светлый желтовато коричневый\n",
            "Summary: старток налейте чашку дистиллированного белого уксуса аэрозольный распылитель добавьте капель лимонного эфирного масла ендток\n",
            "\n",
            "\n",
            "Review: скажите заметили поведении признаки которые говорят нравитесь будьте честны открыты поводу своих переживаний возможно разговор развеет одночасье точно поможет случае ваши догадки оказались верны также ваш друг просто злится обижается будьте готовы помириться особенно считаете ваш друг злится поступок решение покажете другу честны открыты компромиссам примирению скорее сделает самое обсуждая моменты которые беспокоят придерживаться утверждений обвиняйте человека начиная предложение оборот выглядит выдаете свое мнение факты скажите чувствовали ваш друг сделал негативное отношению расскажите поведении друга которое обеспокоило также почему именно оно расстраивает таким образом ваше обращение казаться обвинением кажется это неправы уверены именно почему это хорошим поводом задать открытый вопрос хотите дать другу возможность высказаться просто дать простой ответ простой вопрос спросите задали другу вопрос извинились дайте личное пространство время это непростой процесс ошибкой ожидать ответа сразу жизнь часто ведет людей разными путями ваши дороги могут временем могут разойтись вашего друга могут появиться новые интересы также новые друзья которые разделают интересы новость нравитесь своему другу стать причиной разных негативных эмоций нужно полностью подавлять постарайтесь использовать возможность подумать своей жизни постарайтесь понять почему чувствуете злость страх обиду унижение подумать поступить дальше спросите вашему мнению имел виду ваш друг люди осознают воздействие своих слов поступков обратите это внимание друга возможно получите извинения вероятность друг действительно имел виду вроде личного оскорбления ваш адрес таком случае стоит хорошенько подумать действительно хотите сохранить дружбу вполне возможно дружеские отношения нездоровыми разрушительными это очень вредно вашего физического психологического благополучия поэтому стоит бояться закончить такую дружбу действительно человек друг временем расходитесь возможно вашей дружбе действительно пришел конец называемой токсичной дружбы нездоровых разрушительных отношений несколько отличительных признаков привычка просить совета игнорировать привычка постоянно жаловаться свои проблемы проявлять интереса вашим проблемам вашей жизни привычка постоянно затевать ссоры конфликты привычка соревноваться вами радоваться вашим успехам здоровых счастливых отношениях другом поддерживаете друг друга регулярно общаетесь необходимости обсуждаете проблемы несогласия честной спокойной уважительной форме поддерживать здоровую дружбу необходимо приложить некоторые усилия причем усилия должен прикладывать каждый попытка насильно заставить друга остаться вашей жизни приведет чему хорошему скорее это ухудшит ситуацию это значит проиграли просто временем меняется\n",
            "Summary: старток решите будете ли вы делать кератиновое выпрямление салоне или домашних условиях изучите отзывы средстве изучите как использовать средство не используйте средства формальдегидом ендток\n",
            "\n",
            "\n",
            "Review: площади независимости минске собралось несколько тысяч сторонников президента белоруссии александра лукашенко вышел собравшимся которые кричали спасибо свое выступление лукашенко начал позвал собравшихся площадь домом правительства защитили хотя добавил президент страны отметил является сторонником массовых акций граждан сложившейся ситуации стране вынужден созвать своих сторонников поклялся свое время допустить стране площадей сторонник митингов вина пришлось позвать помощь уверен вместе поблагодарил присутствующих те пришли спасибо четверть века терпите человека провинции сказал белорусам которые встретили овациями лукашенко опроверг мнение результаты голосования выборах президента республики сфальсифицированы фальсификации выборов результатом стою богом выборы состоялись заверил данным цик лукашенко которые занял пост главы страны шестой отдали свои голоса избирателей родные мои стою крепко уцепился власть четверть века отдал молодость самые лучшие годы служению нашей родине оппозиция кричат уходи вопрос вопрос президенты приходят уходят кого завтра будем ждать кого завтра кормить будем задался вопросом лукашенко отметил белорусов хотят одеть лапти погонять плеткой это хочет заявил президент белоруссии политик также предупредил намерен отдавать страну случае кончины построили вами сложностях недостатках красавицу страну кому решили отдать хочет отдать страну буду мертвым позволю заверил пока подчеркнул лукашенко живой жить тому считает глава государства белоруссии грозит угроза гибели государства случае перевыборов это мнение объяснил это означать республика пошла поводу запада натовское руководство призывает провести новые выборы пойдем поводу погибнем государство сказал лукашенко ранее подчеркивал массовые акции протеста оппозиции устраивают иностранные силы республике прошла цветная революция это белорусский президент заявил протестным движением управляют иностранные кукловоды мнению лукашенко хотят западные границы белоруссии проходили брестом минском начала второй мировой войны этому бывать пообещал собравшимся лукашенко спокойной жизни нам дадут утихомирятся выползут крысы своих нор некоторое время отметил говоря оппозиционерах напомнил пришел власти году люди просили неопытного молодого человека отвести народ пропасти это сделали сделали мечтали миллионы наших предшественников построили независимое суверенное государство подчеркнул политик заключение своего выступления глава белоруссии сказал встаю вами колени впервые своей жизни это заслужили это лишь фигура речи отмечают журналисты пока лукашенко выступал своими сторонниками многочисленные сторонники оппозиции стали подтягиваться стеле минске планируют провести свой митинг призывая власти перевыборам\n",
            "Summary: старток следите за тем сколько времени вы проводите за компьютером запланируйте паузы выделяйте время на занятия без компьютера ежедневно ограничьте работу интернетом заблокируйте все сайты которые вас отвлекают используйте технологии пользой выполняйте все задачи связанные компьютером как можно скорее ендток\n",
            "\n",
            "\n"
          ]
        }
      ]
    },
    {
      "cell_type": "code",
      "source": [
        "#@title Разделение на text и summary\n",
        "# x_tr, y_tr = data_test['text'], data_test['summ']\n",
        "\n",
        "from sklearn.model_selection import train_test_split\n",
        "x_tr,x_val,y_tr,y_val=train_test_split(np.array(df['text']),np.array(df['summary']),test_size=0.05,random_state=0,shuffle=True) "
      ],
      "metadata": {
        "cellView": "form",
        "id": "sBUzYNaFg-ny"
      },
      "execution_count": 18,
      "outputs": []
    },
    {
      "cell_type": "code",
      "source": [
        "#@title Подготовка токенизатора для анализа данных обучения\n",
        "x_tokenizer = Tokenizer() \n",
        "x_tokenizer.fit_on_texts(list(x_tr))"
      ],
      "metadata": {
        "id": "QgzLNqDCd9OO"
      },
      "execution_count": 19,
      "outputs": []
    },
    {
      "cell_type": "code",
      "source": [
        "#@title Подсчет количества редких и общеупотребительных слов в text\n",
        "thresh=4\n",
        "\n",
        "cnt=0\n",
        "tot_cnt=0\n",
        "freq=0\n",
        "tot_freq=0\n",
        "\n",
        "for key,value in x_tokenizer.word_counts.items():\n",
        "    tot_cnt=tot_cnt+1\n",
        "    tot_freq=tot_freq+value\n",
        "    if(value<thresh):\n",
        "        cnt=cnt+1\n",
        "        freq=freq+value\n",
        "    \n",
        "print(\"% из редких слов в словаре:\", round((cnt/tot_cnt)*10000)/100)\n",
        "print(\"Общий охват редких слов:\", round((freq/tot_freq)*10000)/100)"
      ],
      "metadata": {
        "colab": {
          "base_uri": "https://localhost:8080/"
        },
        "cellView": "form",
        "id": "1TfKGMiHhPiK",
        "outputId": "998db13c-d752-4ca8-c0c1-90173a598f2c"
      },
      "execution_count": 20,
      "outputs": [
        {
          "output_type": "stream",
          "name": "stdout",
          "text": [
            "% из редких слов в словаре: 77.47\n",
            "Общий охват редких слов: 25.09\n"
          ]
        }
      ]
    },
    {
      "cell_type": "code",
      "source": [
        "#@title Определение токенизатора с помощью наиболее распространенных слов для обзоров\n",
        "#подготовка токенизатора для обзоров по данным обучения\n",
        "x_tokenizer = Tokenizer(num_words=tot_cnt-cnt) \n",
        "x_tokenizer.fit_on_texts(list(x_tr))\n",
        "\n",
        "#преобразование текстовых последовательностей в целочисленные последовательности\n",
        "x_tr_seq    =   x_tokenizer.texts_to_sequences(x_tr) \n",
        "x_val_seq   =   x_tokenizer.texts_to_sequences(x_val)\n",
        "\n",
        "#заполнение нуля до максимальной длины\n",
        "x_tr    =   pad_sequences(x_tr_seq,  maxlen=max_text_len, padding='post')\n",
        "x_val   =   pad_sequences(x_val_seq, maxlen=max_text_len, padding='post')\n",
        "\n",
        "#размер словарного запаса ( +1 для маркера заполнения)\n",
        "x_voc   =  x_tokenizer.num_words + 1"
      ],
      "metadata": {
        "cellView": "form",
        "id": "b8O02l3ViQTB"
      },
      "execution_count": 21,
      "outputs": []
    },
    {
      "cell_type": "code",
      "source": [
        "x_voc"
      ],
      "metadata": {
        "colab": {
          "base_uri": "https://localhost:8080/"
        },
        "id": "wjTtOeR_j5Ln",
        "outputId": "0fadb898-271e-4afd-c91b-415a57a6180b"
      },
      "execution_count": 22,
      "outputs": [
        {
          "output_type": "execute_result",
          "data": {
            "text/plain": [
              "11224"
            ]
          },
          "metadata": {},
          "execution_count": 22
        }
      ]
    },
    {
      "cell_type": "code",
      "source": [
        "#@title Подготовка токенизатора для summary по данным обучения\n",
        "y_tokenizer = Tokenizer()\n",
        "y_tokenizer.fit_on_texts(list(y_tr))"
      ],
      "metadata": {
        "cellView": "form",
        "id": "kH5R6tW4j_p_"
      },
      "execution_count": 23,
      "outputs": []
    },
    {
      "cell_type": "code",
      "source": [
        "#@title Подсчет количества редких и общеупотребительных слов в summary\n",
        "thresh=6\n",
        "\n",
        "cnt=0\n",
        "tot_cnt=0\n",
        "freq=0\n",
        "tot_freq=0\n",
        "\n",
        "for key,value in y_tokenizer.word_counts.items():\n",
        "    tot_cnt=tot_cnt+1\n",
        "    tot_freq=tot_freq+value\n",
        "    if(value<thresh):\n",
        "        cnt=cnt+1\n",
        "        freq=freq+value\n",
        "    \n",
        "print(\"% of rare words in vocabulary:\", round((cnt/tot_cnt)*10000)/100)\n",
        "print(\"Total Coverage of rare words:\", round((freq/tot_freq)*10000)/100)"
      ],
      "metadata": {
        "colab": {
          "base_uri": "https://localhost:8080/"
        },
        "cellView": "form",
        "id": "oY2ymLUskVvL",
        "outputId": "ff87a737-9f87-47bc-f284-5aed1a7ef3c4"
      },
      "execution_count": 24,
      "outputs": [
        {
          "output_type": "stream",
          "name": "stdout",
          "text": [
            "% of rare words in vocabulary: 95.06\n",
            "Total Coverage of rare words: 58.65\n"
          ]
        }
      ]
    },
    {
      "cell_type": "code",
      "source": [
        "#@title Определение токенизатора с помощью наиболее распространенных слов для обзоров\n",
        "#подготовка токенизатора для обзоров по данным обучения\n",
        "y_tokenizer = Tokenizer(num_words=tot_cnt-cnt) \n",
        "y_tokenizer.fit_on_texts(list(y_tr))\n",
        "\n",
        "#преобразование текстовых последовательностей в целочисленные последовательности\n",
        "y_tr_seq    =   y_tokenizer.texts_to_sequences(y_tr) \n",
        "y_val_seq   =   y_tokenizer.texts_to_sequences(y_val) \n",
        "\n",
        "#заполнение нуля до максимальной длины\n",
        "y_tr    =   pad_sequences(y_tr_seq, maxlen=max_summary_len, padding='post')\n",
        "y_val   =   pad_sequences(y_val_seq, maxlen=max_summary_len, padding='post')\n",
        "\n",
        "#размер словарного запаса ( +1 для маркера заполнения)\n",
        "y_voc  =   y_tokenizer.num_words +1"
      ],
      "metadata": {
        "id": "fp8SSRsQkjDr"
      },
      "execution_count": 25,
      "outputs": []
    },
    {
      "cell_type": "code",
      "source": [
        "#@title Количество контрольных слов в стартовом токене равно длине обучающих данных\n",
        "y_tokenizer.word_counts['старток'],len(y_tr)"
      ],
      "metadata": {
        "colab": {
          "base_uri": "https://localhost:8080/"
        },
        "id": "V2rjD3nNk2jX",
        "outputId": "f8d03da2-c29c-4eee-86fb-42390e783e3a"
      },
      "execution_count": 26,
      "outputs": [
        {
          "output_type": "execute_result",
          "data": {
            "text/plain": [
              "(743, 743)"
            ]
          },
          "metadata": {},
          "execution_count": 26
        }
      ]
    },
    {
      "cell_type": "code",
      "source": [
        "#@title Удаление строк из train, содержащих только начальные и конечные токены\n",
        "ind=[]\n",
        "for i in range(len(y_tr)):\n",
        "    cnt=0\n",
        "    for j in y_tr[i]:\n",
        "        if j!=0:\n",
        "            cnt=cnt+1\n",
        "    if(cnt==2):\n",
        "        ind.append(i)\n",
        "\n",
        "y_tr=np.delete(y_tr,ind, axis=0)\n",
        "x_tr=np.delete(x_tr,ind, axis=0)"
      ],
      "metadata": {
        "id": "48Yqw451lB5b"
      },
      "execution_count": 27,
      "outputs": []
    },
    {
      "cell_type": "code",
      "source": [
        "#@title Удаление строк из test, содержащих только начальные и конечные токены\n",
        "ind=[]\n",
        "for i in range(len(y_val)):\n",
        "    cnt=0\n",
        "    for j in y_val[i]:\n",
        "        if j!=0:\n",
        "            cnt=cnt+1\n",
        "    if(cnt==2):\n",
        "        ind.append(i)\n",
        "\n",
        "y_val=np.delete(y_val,ind, axis=0)\n",
        "x_val=np.delete(x_val,ind, axis=0)"
      ],
      "metadata": {
        "id": "qHfG9DNBlIbL"
      },
      "execution_count": 28,
      "outputs": []
    },
    {
      "cell_type": "code",
      "source": [
        "#@title Построение модели, определение уровней LSTM, кодировщик и декодер\n",
        "from keras import backend as K \n",
        "K.clear_session()\n",
        "\n",
        "latent_dim = 300\n",
        "embedding_dim=100\n",
        "\n",
        "# Encoder\n",
        "encoder_inputs = Input(shape=(max_text_len,))\n",
        "\n",
        "# встраивающий слой\n",
        "enc_emb =  Embedding(x_voc, embedding_dim,trainable=True)(encoder_inputs)\n",
        "\n",
        "#encoder lstm 1\n",
        "encoder_lstm1 = LSTM(latent_dim,return_sequences=True,return_state=True,dropout=0.4,recurrent_dropout=0.4)\n",
        "encoder_output1, state_h1, state_c1 = encoder_lstm1(enc_emb)\n",
        "\n",
        "#encoder lstm 2\n",
        "encoder_lstm2 = LSTM(latent_dim,return_sequences=True,return_state=True,dropout=0.4,recurrent_dropout=0.4)\n",
        "encoder_output2, state_h2, state_c2 = encoder_lstm2(encoder_output1)\n",
        "\n",
        "#encoder lstm 3\n",
        "encoder_lstm3=LSTM(latent_dim, return_state=True, return_sequences=True,dropout=0.4,recurrent_dropout=0.4)\n",
        "encoder_outputs, state_h, state_c= encoder_lstm3(encoder_output2)\n",
        "\n",
        "# Настройте декодер, используя `encoder_states` в качестве начального состояния.\n",
        "decoder_inputs = Input(shape=(None,))\n",
        "\n",
        "# встраивающий слой\n",
        "dec_emb_layer = Embedding(y_voc, embedding_dim,trainable=True)\n",
        "dec_emb = dec_emb_layer(decoder_inputs)\n",
        "\n",
        "decoder_lstm = LSTM(latent_dim, return_sequences=True, return_state=True,dropout=0.4,recurrent_dropout=0.2)\n",
        "decoder_outputs,decoder_fwd_state, decoder_back_state = decoder_lstm(dec_emb,initial_state=[state_h, state_c])\n",
        "\n",
        "# Слой внимания\n",
        "attention_result = AdditiveAttention(use_scale=True)([decoder_outputs, encoder_outputs])\n",
        "\n",
        "# Объединенный входной сигнал и выход LSTM декодера\n",
        "decoder_concat_input = Concatenate(axis=-1, name='concat_layer')([decoder_outputs, attention_result])\n",
        "\n",
        "# плотный слой\n",
        "decoder_dense =  TimeDistributed(Dense(y_voc, activation='softmax'))\n",
        "decoder_outputs = decoder_dense(decoder_concat_input)\n",
        "\n",
        "# Определите модель\n",
        "model = Model([encoder_inputs, decoder_inputs], decoder_outputs)\n",
        "\n",
        "model.summary() "
      ],
      "metadata": {
        "colab": {
          "base_uri": "https://localhost:8080/"
        },
        "id": "kiJ-ENzqlPuv",
        "outputId": "2bed1c9d-44e8-4b49-e0a4-849d7de32757"
      },
      "execution_count": 32,
      "outputs": [
        {
          "output_type": "stream",
          "name": "stdout",
          "text": [
            "Model: \"model\"\n",
            "__________________________________________________________________________________________________\n",
            " Layer (type)                   Output Shape         Param #     Connected to                     \n",
            "==================================================================================================\n",
            " input_1 (InputLayer)           [(None, 500)]        0           []                               \n",
            "                                                                                                  \n",
            " embedding (Embedding)          (None, 500, 100)     1122400     ['input_1[0][0]']                \n",
            "                                                                                                  \n",
            " lstm (LSTM)                    [(None, 500, 300),   481200      ['embedding[0][0]']              \n",
            "                                 (None, 300),                                                     \n",
            "                                 (None, 300)]                                                     \n",
            "                                                                                                  \n",
            " input_2 (InputLayer)           [(None, None)]       0           []                               \n",
            "                                                                                                  \n",
            " lstm_1 (LSTM)                  [(None, 500, 300),   721200      ['lstm[0][0]']                   \n",
            "                                 (None, 300),                                                     \n",
            "                                 (None, 300)]                                                     \n",
            "                                                                                                  \n",
            " embedding_1 (Embedding)        (None, None, 100)    51200       ['input_2[0][0]']                \n",
            "                                                                                                  \n",
            " lstm_2 (LSTM)                  [(None, 500, 300),   721200      ['lstm_1[0][0]']                 \n",
            "                                 (None, 300),                                                     \n",
            "                                 (None, 300)]                                                     \n",
            "                                                                                                  \n",
            " lstm_3 (LSTM)                  [(None, None, 300),  481200      ['embedding_1[0][0]',            \n",
            "                                 (None, 300),                     'lstm_2[0][1]',                 \n",
            "                                 (None, 300)]                     'lstm_2[0][2]']                 \n",
            "                                                                                                  \n",
            " additive_attention (AdditiveAt  (None, None, 300)   300         ['lstm_3[0][0]',                 \n",
            " tention)                                                         'lstm_2[0][0]']                 \n",
            "                                                                                                  \n",
            " concat_layer (Concatenate)     (None, None, 600)    0           ['lstm_3[0][0]',                 \n",
            "                                                                  'additive_attention[0][0]']     \n",
            "                                                                                                  \n",
            " time_distributed (TimeDistribu  (None, None, 512)   307712      ['concat_layer[0][0]']           \n",
            " ted)                                                                                             \n",
            "                                                                                                  \n",
            "==================================================================================================\n",
            "Total params: 3,886,412\n",
            "Trainable params: 3,886,412\n",
            "Non-trainable params: 0\n",
            "__________________________________________________________________________________________________\n"
          ]
        }
      ]
    },
    {
      "cell_type": "code",
      "source": [
        "model.compile(optimizer='rmsprop', loss='sparse_categorical_crossentropy')"
      ],
      "metadata": {
        "id": "oI4tGHF3ojqR"
      },
      "execution_count": 33,
      "outputs": []
    },
    {
      "cell_type": "code",
      "source": [
        "#@title Мониторинг потери валидации\n",
        "es = [EarlyStopping(monitor='val_loss', mode='min', verbose=1,patience=2), \n",
        "      ModelCheckpoint('./MyModel_tf',monitor='val_loss', verbose=1,\n",
        "                      save_best_only=True, mode='min', save_weights_only = False)]"
      ],
      "metadata": {
        "id": "VHWtdfw8os2B"
      },
      "execution_count": 34,
      "outputs": []
    },
    {
      "cell_type": "code",
      "source": [
        "#@title Обучает модель в пакете размером 512 и проверяет ее на 10% набора данных\n",
        "history=model.fit([x_tr,y_tr[:,:-1]], y_tr.reshape(y_tr.shape[0],y_tr.shape[1], 1)[:,1:] ,\\\n",
        "                  epochs=50,callbacks=[es],batch_size=512, validation_data=([x_val,y_val[:,:-1]], y_val.reshape(y_val.shape[0],y_val.shape[1], 1)[:,1:]))"
      ],
      "metadata": {
        "colab": {
          "base_uri": "https://localhost:8080/"
        },
        "id": "R8m99yv7o1qK",
        "outputId": "311513f2-10e4-4d91-c27b-1e39dcee0e3d"
      },
      "execution_count": null,
      "outputs": [
        {
          "output_type": "stream",
          "name": "stdout",
          "text": [
            "Epoch 1/50\n"
          ]
        }
      ]
    },
    {
      "cell_type": "code",
      "source": [
        "# сериализует модель в JSON\n",
        "model_json = model.to_json()\n",
        "with open(\"summary.json\", \"w\") as json_file:\n",
        "    json_file.write(model_json)\n",
        "# Сохраненная модель на диск\n",
        "model.save_weights(\"summary.h5\")\n",
        "print(\"Saved model to disk\")"
      ],
      "metadata": {
        "id": "BIZfuLWGpvun",
        "outputId": "e1e1a6cc-b1bc-448d-fa07-4d939f0d225b",
        "colab": {
          "base_uri": "https://localhost:8080/",
          "height": 243
        }
      },
      "execution_count": null,
      "outputs": [
        {
          "output_type": "error",
          "ename": "NameError",
          "evalue": "ignored",
          "traceback": [
            "\u001b[0;31m---------------------------------------------------------------------------\u001b[0m",
            "\u001b[0;31mNameError\u001b[0m                                 Traceback (most recent call last)",
            "\u001b[0;32m<ipython-input-1-323add86cc2e>\u001b[0m in \u001b[0;36m<cell line: 2>\u001b[0;34m()\u001b[0m\n\u001b[1;32m      1\u001b[0m \u001b[0;31m# сериализует модель в JSON\u001b[0m\u001b[0;34m\u001b[0m\u001b[0;34m\u001b[0m\u001b[0m\n\u001b[0;32m----> 2\u001b[0;31m \u001b[0mmodel_json\u001b[0m \u001b[0;34m=\u001b[0m \u001b[0mmodel\u001b[0m\u001b[0;34m.\u001b[0m\u001b[0mto_json\u001b[0m\u001b[0;34m(\u001b[0m\u001b[0;34m)\u001b[0m\u001b[0;34m\u001b[0m\u001b[0;34m\u001b[0m\u001b[0m\n\u001b[0m\u001b[1;32m      3\u001b[0m \u001b[0;32mwith\u001b[0m \u001b[0mopen\u001b[0m\u001b[0;34m(\u001b[0m\u001b[0;34m\"summary.json\"\u001b[0m\u001b[0;34m,\u001b[0m \u001b[0;34m\"w\"\u001b[0m\u001b[0;34m)\u001b[0m \u001b[0;32mas\u001b[0m \u001b[0mjson_file\u001b[0m\u001b[0;34m:\u001b[0m\u001b[0;34m\u001b[0m\u001b[0;34m\u001b[0m\u001b[0m\n\u001b[1;32m      4\u001b[0m     \u001b[0mjson_file\u001b[0m\u001b[0;34m.\u001b[0m\u001b[0mwrite\u001b[0m\u001b[0;34m(\u001b[0m\u001b[0mmodel_json\u001b[0m\u001b[0;34m)\u001b[0m\u001b[0;34m\u001b[0m\u001b[0;34m\u001b[0m\u001b[0m\n\u001b[1;32m      5\u001b[0m \u001b[0;31m# Сохраненная модель на диск\u001b[0m\u001b[0;34m\u001b[0m\u001b[0;34m\u001b[0m\u001b[0m\n",
            "\u001b[0;31mNameError\u001b[0m: name 'model' is not defined"
          ]
        }
      ]
    }
  ]
}