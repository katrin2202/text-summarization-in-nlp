{
  "nbformat": 4,
  "nbformat_minor": 0,
  "metadata": {
    "colab": {
      "provenance": [],
      "include_colab_link": true
    },
    "kernelspec": {
      "name": "python3",
      "display_name": "Python 3"
    },
    "language_info": {
      "name": "python"
    },
    "accelerator": "GPU"
  },
  "cells": [
    {
      "cell_type": "markdown",
      "metadata": {
        "id": "view-in-github",
        "colab_type": "text"
      },
      "source": [
        "<a href=\"https://colab.research.google.com/github/katrin2202/text-summarization-in-nlp/blob/main/Test_mbart_ru_sum_gazeta.ipynb\" target=\"_parent\"><img src=\"https://colab.research.google.com/assets/colab-badge.svg\" alt=\"Open In Colab\"/></a>"
      ]
    },
    {
      "cell_type": "code",
      "metadata": {
        "id": "IlQb10p_EqIU"
      },
      "source": [
        "!pip install transformers sentencepiece"
      ],
      "execution_count": null,
      "outputs": []
    },
    {
      "cell_type": "code",
      "source": [
        "article_text = \"Данная система может стать незаменимым инструментом для всех следователей, позволяющим найти виновного в преступлении без каких-либо улик, кроме кусочка генетического материала. Corsight AI, дочерняя компания израильской компании искусственного интеллекта Cortica, утверждает, что ее решение может генерировать модель лица на основе ДНК человека, которая затем может быть использована системой распознавания лиц для идентификации.\"\n",
        "summ = \"Компания разрабатывает систему для создания портрета человека на основе его ДНК\""
      ],
      "metadata": {
        "id": "vcgUM2c5M_vW"
      },
      "execution_count": 18,
      "outputs": []
    },
    {
      "cell_type": "code",
      "metadata": {
        "colab": {
          "base_uri": "https://localhost:8080/"
        },
        "id": "t8zo2MhuEnOJ",
        "outputId": "8c7ad6a7-38bb-40b9-dd03-d6f1d8b1a4cf"
      },
      "source": [
        "from transformers import MBartTokenizer, MBartForConditionalGeneration\n",
        "\n",
        "model_name = \"IlyaGusev/mbart_ru_sum_gazeta\"\n",
        "tokenizer = MBartTokenizer.from_pretrained(model_name)\n",
        "model = MBartForConditionalGeneration.from_pretrained(model_name)\n",
        "model.to(\"cuda\")\n",
        "\n",
        "input_ids = tokenizer(\n",
        "    [article_text],\n",
        "    max_length=600,\n",
        "    truncation=True,\n",
        "    return_tensors=\"pt\",\n",
        ")[\"input_ids\"].to(\"cuda\")\n",
        "\n",
        "output_ids = model.generate(\n",
        "    input_ids=input_ids,\n",
        "    no_repeat_ngram_size=4\n",
        ")[0]\n",
        "summary = tokenizer.decode(output_ids, skip_special_tokens=True)\n",
        "print(summary)"
      ],
      "execution_count": 19,
      "outputs": [
        {
          "output_type": "stream",
          "name": "stderr",
          "text": [
            "/usr/local/lib/python3.10/dist-packages/transformers/generation/utils.py:1346: UserWarning: Using `max_length`'s default (200) to control the generation length. This behaviour is deprecated and will be removed from the config in v5 of Transformers -- we recommend using `max_new_tokens` to control the maximum length of the generation.\n",
            "  warnings.warn(\n"
          ]
        },
        {
          "output_type": "stream",
          "name": "stdout",
          "text": [
            "В Израиле создана система, позволяющая найти виновного в преступлении без каких-либо улик, кроме кусочка генетического материала. Ранее сообщалось, что система может генерировать модель лица на основе ДНК человека, которая затем может быть использована системой распознавания лиц для идентификации.\n"
          ]
        }
      ]
    },
    {
      "cell_type": "code",
      "source": [
        "import re\n",
        "from transformers import AutoTokenizer, AutoModelForSeq2SeqLM\n",
        "\n",
        "WHITESPACE_HANDLER = lambda k: re.sub('\\s+', ' ', re.sub('\\n+', ' ', k.strip()))\n",
        "\n",
        "model_name = \"csebuetnlp/mT5_multilingual_XLSum\"\n",
        "tokenizer = AutoTokenizer.from_pretrained(model_name)\n",
        "model = AutoModelForSeq2SeqLM.from_pretrained(model_name)\n",
        "\n",
        "input_ids = tokenizer(\n",
        "    [WHITESPACE_HANDLER(article_text)],\n",
        "    return_tensors=\"pt\",\n",
        "    padding=\"max_length\",\n",
        "    truncation=True,\n",
        "    max_length=512\n",
        ")[\"input_ids\"]\n",
        "\n",
        "output_ids = model.generate(\n",
        "    input_ids=input_ids,\n",
        "    max_length=84,\n",
        "    no_repeat_ngram_size=2,\n",
        "    num_beams=4\n",
        ")[0]\n",
        "\n",
        "summary = tokenizer.decode(\n",
        "    output_ids,\n",
        "    skip_special_tokens=True,\n",
        "    clean_up_tokenization_spaces=False\n",
        ")\n",
        "\n",
        "print(summary)"
      ],
      "metadata": {
        "id": "gP-H39nXNSUC",
        "outputId": "ba045999-e7c3-47fd-c21d-e08d304414a6",
        "colab": {
          "base_uri": "https://localhost:8080/"
        }
      },
      "execution_count": 20,
      "outputs": [
        {
          "output_type": "stream",
          "name": "stderr",
          "text": [
            "/usr/local/lib/python3.10/dist-packages/transformers/convert_slow_tokenizer.py:454: UserWarning: The sentencepiece tokenizer that you are converting to a fast tokenizer uses the byte fallback option which is not implemented in the fast tokenizers. In practice this means that the fast version of the tokenizer can produce unknown tokens whereas the sentencepiece version would have converted these unknown tokens into a sequence of byte tokens matching the original piece of text.\n",
            "  warnings.warn(\n"
          ]
        },
        {
          "output_type": "stream",
          "name": "stdout",
          "text": [
            "Израильская компания Corsight AI разработала систему, позволяющую распознавать лиц без улики.\n"
          ]
        }
      ]
    },
    {
      "cell_type": "code",
      "source": [
        "import torch\n",
        "from transformers import AutoTokenizer, AutoModelForCausalLM\n",
        "\n",
        "model_name = \"IlyaGusev/rugpt3medium_sum_gazeta\"\n",
        "tokenizer = AutoTokenizer.from_pretrained(model_name)\n",
        "model = AutoModelForCausalLM.from_pretrained(model_name)\n",
        "\n",
        "\n",
        "text_tokens = tokenizer(\n",
        "    article_text,\n",
        "    max_length=600,\n",
        "    add_special_tokens=False, \n",
        "    padding=False,\n",
        "    truncation=True\n",
        ")[\"input_ids\"]\n",
        "input_ids = text_tokens + [tokenizer.sep_token_id]\n",
        "input_ids = torch.LongTensor([input_ids])\n",
        "\n",
        "output_ids = model.generate(\n",
        "    input_ids=input_ids,\n",
        "    no_repeat_ngram_size=4\n",
        ")\n",
        "\n",
        "summary = tokenizer.decode(output_ids[0], skip_special_tokens=False)\n",
        "summary = summary.split(tokenizer.sep_token)[1]\n",
        "summary = summary.split(tokenizer.eos_token)[0]\n",
        "print(summary)"
      ],
      "metadata": {
        "id": "N80-zmL_Nm1-",
        "outputId": "6d7c49b6-bbe0-4921-b64a-88c3164fbceb",
        "colab": {
          "base_uri": "https://localhost:8080/"
        }
      },
      "execution_count": 21,
      "outputs": [
        {
          "output_type": "stream",
          "name": "stderr",
          "text": [
            "/usr/local/lib/python3.10/dist-packages/transformers/generation/utils.py:1346: UserWarning: Using `max_length`'s default (800) to control the generation length. This behaviour is deprecated and will be removed from the config in v5 of Transformers -- we recommend using `max_new_tokens` to control the maximum length of the generation.\n",
            "  warnings.warn(\n"
          ]
        },
        {
          "output_type": "stream",
          "name": "stdout",
          "text": [
            "Система распознавания лиц Corsight, разработанная израильской компанией Cortica для распознавания лиц, может быть использована для идентификации преступников.\n"
          ]
        }
      ]
    },
    {
      "cell_type": "code",
      "source": [],
      "metadata": {
        "id": "pZqf2TCmOeYj"
      },
      "execution_count": null,
      "outputs": []
    }
  ]
}